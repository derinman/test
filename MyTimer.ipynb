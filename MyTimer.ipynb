{
 "cells": [
  {
   "cell_type": "code",
   "execution_count": 17,
   "metadata": {},
   "outputs": [],
   "source": [
    "import time as t\n",
    "class Timer():\n",
    "\n",
    "    def __init__(self):\n",
    "        self.prompt = 'timer hasnt start yet'\n",
    "        self.units = ['hour','min','second']\n",
    "        self.timelasted = []\n",
    "        self.begin = 0\n",
    "        self.end = 0\n",
    "\n",
    "    def __str__(self):\n",
    "        return self.prompt\n",
    "\n",
    "    __repr__ = __str__\n",
    "\n",
    "    #def __add__(self,other):\n",
    "    #這先不用管，之前沒寫完的\n",
    "        #prompt = 'totally equals:'\n",
    "        #result = []\n",
    "        #for index in range(3,6):\n",
    "            #result.append(self.timelast,other.timelast)\n",
    "        \n",
    "    \n",
    "    def start(self):\n",
    "        self.begin = t.localtime()\n",
    "        self.prompt = 'please stop first'\n",
    "        print('start')\n",
    "    \n",
    "    def stop(self):\n",
    "        if not self.begin:\n",
    "            print('please start first')\n",
    "        else:\n",
    "\n",
    "            print('stop')\n",
    "            self.end = t.localtime()\n",
    "            self._calc()\n",
    "\n",
    "    def _calc(self):\n",
    "        self.timelast = []\n",
    "        self.prompt = \"totally\"\n",
    "        self.units = ['hour','min','second']\n",
    "\n",
    "        for index in range(3,6):\n",
    "            self.timelast.append(self.end[index] - self.begin[index])\n",
    "            \n",
    "        self.prompt += str(self.timelast)\n",
    "\n",
    "        self.begin = 0\n",
    "        self.end = 0\n",
    "                \n",
    "\n",
    "class Timer():\n",
    "\n",
    "    def __init__(self):\n",
    "        self.prompt = 'timer hasnt start yet'\n",
    "        self.units = ['hour','min','second']\n",
    "        self.timelasted = []\n",
    "        self.begin = 0\n",
    "        self.end = 0\n",
    "\n",
    "    def __str__(self):\n",
    "        return self.prompt\n",
    "\n",
    "    __repr__ = __str__\n",
    "\n",
    "    #def __add__(self,other):\n",
    "    #這先不用管，之前沒寫完的\n",
    "        #prompt = 'totally equals:'\n",
    "        #result = []\n",
    "        #for index in range(3,6):\n",
    "            #result.append(self.timelast,other.timelast)\n",
    "        \n",
    "    \n",
    "    def start(self):\n",
    "        self.begin = t.localtime()\n",
    "        self.prompt = 'please stop first'\n",
    "        print('start')\n",
    "    \n",
    "    def stop(self):\n",
    "        if not self.begin:\n",
    "            print('please start first')\n",
    "        else:\n",
    "\n",
    "            print('stop')\n",
    "            self.end = t.localtime()\n",
    "            self._calc()\n",
    "\n",
    "    def _calc(self):\n",
    "        self.timelast = []\n",
    "        self.prompt = \"totally\"\n",
    "        self.units = ['hour','min','second']\n",
    "\n",
    "        for index in range(3,6):\n",
    "            self.timelast.append(self.end[index] - self.begin[index])\n",
    "            \n",
    "        self.prompt += str(list(zip(t1.timelast,t1.units)))\n",
    "\n",
    "        self.begin \n",
    "        self.end = 0\n",
    "                "
   ]
  },
  {
   "cell_type": "code",
   "execution_count": 18,
   "metadata": {},
   "outputs": [],
   "source": [
    "t1= Timer()"
   ]
  },
  {
   "cell_type": "code",
   "execution_count": 19,
   "metadata": {
    "tags": []
   },
   "outputs": [
    {
     "output_type": "stream",
     "name": "stdout",
     "text": "start\n"
    }
   ],
   "source": [
    "t1.start()"
   ]
  },
  {
   "cell_type": "code",
   "execution_count": 20,
   "metadata": {
    "tags": []
   },
   "outputs": [
    {
     "output_type": "stream",
     "name": "stdout",
     "text": "stop\n"
    }
   ],
   "source": [
    "t1.stop()"
   ]
  },
  {
   "cell_type": "code",
   "execution_count": 21,
   "metadata": {
    "tags": []
   },
   "outputs": [
    {
     "output_type": "execute_result",
     "data": {
      "text/plain": "[0, 0, 2]"
     },
     "metadata": {},
     "execution_count": 21
    }
   ],
   "source": [
    "t1.timelast"
   ]
  },
  {
   "cell_type": "code",
   "execution_count": 25,
   "metadata": {},
   "outputs": [
    {
     "output_type": "execute_result",
     "data": {
      "text/plain": "\"[(0, 'hour'), (0, 'min'), (2, 'second')]\""
     },
     "metadata": {},
     "execution_count": 25
    }
   ],
   "source": [
    "str(list(zip(t1.timelast,t1.units)))"
   ]
  },
  {
   "cell_type": "code",
   "execution_count": 23,
   "metadata": {},
   "outputs": [
    {
     "output_type": "execute_result",
     "data": {
      "text/plain": "\"totally[(0, 'hour'), (0, 'min'), (2, 'second')]\""
     },
     "metadata": {},
     "execution_count": 23
    }
   ],
   "source": [
    "t1.prompt"
   ]
  },
  {
   "cell_type": "code",
   "execution_count": null,
   "metadata": {},
   "outputs": [],
   "source": []
  }
 ],
 "metadata": {
  "language_info": {
   "codemirror_mode": {
    "name": "ipython",
    "version": 3
   },
   "file_extension": ".py",
   "mimetype": "text/x-python",
   "name": "python",
   "nbconvert_exporter": "python",
   "pygments_lexer": "ipython3",
   "version": "3.7.4-final"
  },
  "orig_nbformat": 2,
  "kernelspec": {
   "name": "python3",
   "display_name": "Python 3"
  }
 },
 "nbformat": 4,
 "nbformat_minor": 2
}